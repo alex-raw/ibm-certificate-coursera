{
  "metadata": {
    "kernelspec": {
      "name": "python",
      "display_name": "Python (Pyodide)",
      "language": "python"
    },
    "language_info": {
      "codemirror_mode": {
        "name": "python",
        "version": 3
      },
      "file_extension": ".py",
      "mimetype": "text/x-python",
      "name": "python",
      "nbconvert_exporter": "python",
      "pygments_lexer": "ipython3",
      "version": "3.8"
    }
  },
  "nbformat_minor": 4,
  "nbformat": 4,
  "cells": [
    {
      "cell_type": "markdown",
      "source": "# Data Science Ecosystem",
      "metadata": {}
    },
    {
      "cell_type": "markdown",
      "source": "## Introduction\n\nIn this notebook, Data Science Tools and Ecosystem are summarized.",
      "metadata": {}
    },
    {
      "cell_type": "markdown",
      "source": "Data Science Languages:\n1. R\n1. Python\n1. SQL\n1. Julia\n1. Scala\n1. C++\n1. Java",
      "metadata": {}
    },
    {
      "cell_type": "markdown",
      "source": "Data science libraries:\n1. Python: scikit-learn, scipy, pytorch, tensorflow, keras, numpy, matplotlib\n2. R: caret, tidyverse (dplyr, tidyr, stringr...), data.table, ggplot2, shiny",
      "metadata": {}
    },
    {
      "cell_type": "markdown",
      "source": "Data science tools:\n| Data Science Tools |\n| :-- |\n| RStudio |\n| PyCharm |\n| Visual Studio |",
      "metadata": {
        "scrolled": true
      }
    },
    {
      "cell_type": "markdown",
      "source": "## Here are some arithmetic examples",
      "metadata": {}
    },
    {
      "cell_type": "code",
      "source": "# This a simple arithmetic expression to mutiply then add integers\n(3*4)+5",
      "metadata": {
        "trusted": true
      },
      "outputs": [
        {
          "execution_count": 1,
          "output_type": "execute_result",
          "data": {
            "text/plain": "17"
          },
          "metadata": {}
        }
      ],
      "execution_count": 1
    },
    {
      "cell_type": "code",
      "source": "# convert minutes to hours\nminutes = 123\nhours = minutes // 60\nminutes_left = minutes % 60\nprint(f\"{minutes} minutes == {hours} hours and {minutes_left} minutes\")",
      "metadata": {
        "trusted": true
      },
      "outputs": [
        {
          "name": "stdout",
          "text": "123 minutes == 2 hours and 3 minutes\n",
          "output_type": "stream"
        }
      ],
      "execution_count": 2
    },
    {
      "cell_type": "markdown",
      "source": "**Objectives:**\n\n- list programming languages\n- list libraries\n- experiment with code blocks",
      "metadata": {}
    },
    {
      "cell_type": "markdown",
      "source": "## Author: \nAlexander Rauhut",
      "metadata": {}
    }
  ]
}